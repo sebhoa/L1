{
 "cells": [
  {
   "cell_type": "markdown",
   "metadata": {},
   "source": [
    "# Programmes et Algorithmes -- Examen session 2\n",
    "\n",
    "## /!\\ Informations importantes /!\\\n",
    "\n",
    "- **Début de l'épreuve** : mercredi 10 juin, 8h (heure Réunion)\n",
    "- **Date limite de rendu** : 14h, heure Réunion.\n",
    "- **Durée** : 1h30 (pour réaliser les 3 exercices proposés)\n",
    "\n",
    "Comme vous pouvez le constater, vous avez une plage de 6 heures pour réaliser votre travail **et** le déposer sur moodle dont l'adresse est : https://moodle-examen.univ-reunion.fr/course/view.php?id=205\n",
    "\n",
    "Cette épreuve comporte 3 exercices indépendants à réaliser en Python 3. Les cellules dans lesquelles vous devez taper du code sont clairement identifiées par un commentaire Python comme celui-ci :\n",
    "\n",
    "```python\n",
    "# Tapez votre code ici\n",
    "#\n",
    "```\n",
    "\n",
    "Certaines cellules comportent des `assert`. Elles vous permettent de tester vos fonctions. Pour les exécuter, il suffit de cliquer dans la cellule puis de choisir le bouton `Exécuter` dans la barre des outils. Ces cellules sont identifiées par le commentaire :\n",
    "\n",
    "```python\n",
    "# Exécutez cette cellule pour vérifier votre code\n",
    "#\n",
    "```\n",
    "\n",
    "**Attention** -- Lors de la correction de votre travail des tests supplémentaires seront mis en oeuvre : passer les tests ici ne garanti pas que votre fonction est correcte. D'autre part, une partie des points sera dédiée à la qualité de la solution trouvée (lisibilité du code notamment)."
   ]
  },
  {
   "cell_type": "markdown",
   "metadata": {},
   "source": [
    "## Question 1 -- 4 pts\n",
    "\n",
    "Écrire une fonction `filtrer` qui prend trois paramètres : une liste de valeurs numériques (`float`), une valeur référence `v` et une marge d'erreur `epsilon` et qui retourne la liste des valeurs qui sont à moins de `epsilon` de `v`. C'est-à-dire que la valeur absolue de la différence est inférieure strictement à `epsilon` (`abs` est la fonction prédéfinie pour la valeur absolue).\n",
    "\n",
    "**Attention** -- L'ordre de la liste initiale devra être respecté."
   ]
  },
  {
   "cell_type": "code",
   "execution_count": null,
   "metadata": {},
   "outputs": [],
   "source": [
    "# Tapez votre code ici\n",
    "#"
   ]
  },
  {
   "cell_type": "markdown",
   "metadata": {},
   "source": [
    "### Testez..."
   ]
  },
  {
   "cell_type": "code",
   "execution_count": null,
   "metadata": {},
   "outputs": [],
   "source": [
    "# Exécutez cette cellule pour vérifier votre code\n",
    "#\n",
    "assert filtrer([5.10, 8, 8.5, 8.49, 12, 8.3, 7.1], 8, 0.5) == [8, 8.49, 8.3], 'Echec 1er test'\n",
    "assert filtrer([8, 9, 10, 11, 12, 13, 14], 20, 1) == [], 'Echec 2e test'\n",
    "assert filtrer([1, 1, 1, 2, 3, 3], 2, 1.1) == [1, 1, 1, 2, 3, 3],  'Echec 3e test'\n",
    "print('Tous les tests sont OK !')"
   ]
  },
  {
   "cell_type": "markdown",
   "metadata": {},
   "source": [
    "## Question 2 -- 5 pts\n",
    "\n",
    "Écrire une fonction `left_arrow` qui prend en paramètres un entier `n` qui donnera la taille de notre flèche et un caractère `car` qui sera le motif de notre flèche. La fonction **ne doit produire aucun affichage** mais retourner une chaine de caractères. On rappelle que le caractère *retour à la ligne* est le caractère `'\\n'`. Le deuxième paramètre est optionnel et le caractère par défaut sera le `'X'`\n",
    "\n",
    "**Exemples**\n",
    "\n",
    "```python\n",
    "print(left_arrow(2, '*'))\n",
    " *\n",
    "*\n",
    " *\n",
    "\n",
    "print(left_arrow(3))\n",
    "  X\n",
    " X\n",
    "X\n",
    " X\n",
    "  X\n",
    "\n",
    "print(left_arrow(1))\n",
    "X\n",
    "```\n",
    "\n",
    "**Attention** -- Il n'y a pas de retour à la ligne à la dernière ligne du motif"
   ]
  },
  {
   "cell_type": "code",
   "execution_count": null,
   "metadata": {},
   "outputs": [],
   "source": [
    "# Tapez votre code ici\n",
    "#"
   ]
  },
  {
   "cell_type": "markdown",
   "metadata": {},
   "source": [
    "### Testez..."
   ]
  },
  {
   "cell_type": "code",
   "execution_count": null,
   "metadata": {},
   "outputs": [],
   "source": [
    "# Exécutez cette cellule pour vérifier votre code\n",
    "#\n",
    "assert left_arrow(2, '*') == ' *\\n*\\n *', 'Échec du 1er test'\n",
    "assert left_arrow(3) == '  X\\n X\\nX\\n X\\n  X', 'Échec du 2e test'\n",
    "assert left_arrow(1) == 'X', 'Échec du 3e test'\n",
    "assert left_arrow(5, '=') == '    =\\n   =\\n  =\\n =\\n=\\n =\\n  =\\n   =\\n    =', 'Échec du 4e test'\n",
    "print('Tous les tests sont OK !')"
   ]
  },
  {
   "cell_type": "markdown",
   "metadata": {},
   "source": [
    "## Question 3 -- Plusieurs fonctions pour un total de 11 pts\n",
    "\n",
    "**Marche aléatoire** Un robot __R__ est placé sur une grille dont les cases sont repérées par un système de coordonnées. Au départ **R** est en `(0, 0)`\n",
    "\n",
    "![grille initiale](images/grille0.png)\n",
    "\n",
    "Un pas consiste à faire avancer **aléatoirement** le robot d'1 case dans une des 4 directions possibles. Par exemple, si **R** est allé au Nord, ses nouvelles coordonnées seront `(0, -1)` (la case grise marquée d'un `X` sert à visualiser l'ancienne position) :\n",
    "\n",
    "![grille initiale](images/grille1.png)\n",
    "\n",
    "**Attention aux y négatifs quand on va vers le Nord**\n",
    "\n",
    "Si on modélise le Nord par 0, l'Est par 1, le Sud par 2 et l'Ouest par 3, alors le tuple suvant permet de faire le lien entre la direction et le changement de coordonnées...\n",
    "\n",
    "**Exécutez la cellule ci-dessous sans la modifier**"
   ]
  },
  {
   "cell_type": "code",
   "execution_count": null,
   "metadata": {},
   "outputs": [],
   "source": [
    "# Cellule à exécuter\n",
    "#\n",
    "import random\n",
    "MOVES = ((0, -1), (1, 0), (0, 1), (-1, 0))"
   ]
  },
  {
   "cell_type": "markdown",
   "metadata": {},
   "source": [
    "### Question 3.1 -- 2 pts\n",
    "\n",
    "Écrire une fonction `pas` qui ne prend aucun paramètre et retourne le tuple correspondant au déplacement de 1 pas dans une direction aléatoire.\n",
    "\n",
    "**Rappel** Le module `random` vous permet d'utiliser la fonction `random.randint(a, b)` qui retourne un entier aléatoire entre les entiers `a` et `b` (brones comprises)."
   ]
  },
  {
   "cell_type": "code",
   "execution_count": null,
   "metadata": {},
   "outputs": [],
   "source": [
    "# Tapez votre code ici\n",
    "#"
   ]
  },
  {
   "cell_type": "markdown",
   "metadata": {},
   "source": [
    "#### Testez..."
   ]
  },
  {
   "cell_type": "code",
   "execution_count": null,
   "metadata": {},
   "outputs": [],
   "source": [
    "# Exécutez cette cellule pour vérifier votre code\n",
    "#\n",
    "random.seed(123)\n",
    "assert pas() == (0, -1), 'Échec test 1'\n",
    "assert pas() == (0, 1), 'Échec test 2'\n",
    "assert pas() == (0, -1), 'Échec test 3'\n",
    "assert pas() == (-1, 0), 'Échec test 4'\n",
    "assert pas() == (0, 1), 'Échec test 5'\n",
    "print('Tous les tests sont OK !')"
   ]
  },
  {
   "cell_type": "markdown",
   "metadata": {},
   "source": [
    "### Question 3.2 -- 2 pts\n",
    "\n",
    "Écrire une fonction `distance` qui prend 2 points `p1` et `p2` qui sont des tuples de 2 entiers chacun et qui calcule la distance entre ces deux points, comme étant la somme de la différence en valeur absolue des coordoonées horizontales et de la différence en valeur absolue des coordonnées en verticales.\n",
    "\n",
    "**Exemple**\n",
    "\n",
    "`distance((3,1), (-1, 5))` vaut `8`. En effet : valeur absolue de `3 - (-1)` est 4 et valeur absolue de `1 - 5` est 4 aussi. `4 + 4 = 8`\n",
    "\n"
   ]
  },
  {
   "cell_type": "code",
   "execution_count": null,
   "metadata": {},
   "outputs": [],
   "source": [
    "# Tapez votre code ici\n",
    "#"
   ]
  },
  {
   "cell_type": "markdown",
   "metadata": {},
   "source": [
    "#### Testez..."
   ]
  },
  {
   "cell_type": "code",
   "execution_count": null,
   "metadata": {},
   "outputs": [],
   "source": [
    "# Exécutez cette cellule pour vérifier votre code\n",
    "#\n",
    "assert distance((3, 1), (-1, 5)) == 8, 'Échec test 1'\n",
    "assert distance((0, 0), (-3, 2)) == 5, 'Échec test 2'\n",
    "assert distance((0, 0), (1, 1)) == 2, 'Échec test 3'\n",
    "assert distance((4, 4), (4, 4)) == 0, 'Échec test 4'\n",
    "print('Tous les tests sont OK !')"
   ]
  },
  {
   "cell_type": "markdown",
   "metadata": {},
   "source": [
    "### Question 3.3 -- 4pts\n",
    "\n",
    "On souhaite faire faire un parcours au robot ie lui faire faire plusieurs pas aléatoires depuis un point de départ. Écrire une fonction `parcours` prenant en paramètres, 3 entiers : `x`, `y` les coordonnées du point départ et `n` le nombre de pas. La fonction doit retourner le couple des coordonnées du point d'arrivée lorsque le parcours est terminé.\n",
    "\n",
    "Par exemple, si on suppose que 5 pas aléatoires donnent les 5 mouvements : `(0, -1), (0, 1), (0, -1), (-1, 0), (0, 1)` alors le résultat de `parcours(0, 0, 5)` est `(-1, 0)`.\n",
    "\n",
    "**Indication** Même si vous n'avez pas écrit la fonction `pas`, votre fonction `parcours` peut l'utiliser... (vous ne pourrez pas la tester par contre)."
   ]
  },
  {
   "cell_type": "code",
   "execution_count": null,
   "metadata": {},
   "outputs": [],
   "source": [
    "# Tapez votre code ici\n",
    "#"
   ]
  },
  {
   "cell_type": "markdown",
   "metadata": {},
   "source": [
    "#### Testez..."
   ]
  },
  {
   "cell_type": "code",
   "execution_count": null,
   "metadata": {},
   "outputs": [],
   "source": [
    "# Exécutez cette cellule pour vérifier votre code\n",
    "#\n",
    "random.seed(123)\n",
    "assert parcours(0, 0, 5) == (-1, 0), 'Échec test 1'\n",
    "assert parcours(0, 0, 10) == (1, 1), 'Échec test 2'\n",
    "assert parcours(-5, 3, 100) == (-19, -5), 'Échec test 3'\n",
    "assert parcours(3, 10, 1000) == (38, 15), 'Échec test 4'\n",
    "assert parcours(-1, -4, 200) == (9, -6), 'Échec test 5'\n",
    "print('Tous les tests sont OK !')"
   ]
  },
  {
   "cell_type": "markdown",
   "metadata": {},
   "source": [
    "### Question 3.4 -- 3pts\n",
    "\n",
    "Le petit jeu de la **Marche aléatoire** consiste à positionner sont robot en `(0, 0)`, à fixer un nombre de pas puis à réaliser un parcours. À la fin, suivant la position du robot, on gagne plus ou moins, voire on perd :\n",
    "\n",
    "- si je robot est à moins de 5 du point de départ, on gagne 10\n",
    "- s'il est à moins de 8 on gagne 2\n",
    "- et sinon (donc égale ou supérieur à 8) on perd 4\n",
    "\n",
    "La fonction principale `jeu` donnée ci-dessous, fait appel aux fonctions vues précédemment. Elle prend un montant en paramètre (votre mise de départ), ainsi qu'une longueur de parcours et une nombre de répétitions. La fonction réalise un parcours et met à jour votre mise puis recommence jusqu'à ce que le nombre de répétitions soit atteint ou alors que vous n'ayez plus assez d'argent. A la fin, la fonction retourne ce que vous avez en poche.\n",
    "\n",
    "Lire et comprendre le code de la fonction `jeu` ci-dessous et compléter ce qu'il manque."
   ]
  },
  {
   "cell_type": "code",
   "execution_count": null,
   "metadata": {},
   "outputs": [],
   "source": [
    "import random\n",
    "\n",
    "DEPART = 0, 0\n",
    "SEUIL1 = 5\n",
    "SEUIL2 = 8\n",
    "GAIN1 = 10\n",
    "GAIN2 = 2\n",
    "PERTE = -4\n",
    "\n",
    "\n",
    "def resultat(x, y):\n",
    "    d = distance(DEPART, (x, y)) \n",
    "    if d < SEUIL1:\n",
    "        gain = GAIN1\n",
    "    elif d < SEUIL2:\n",
    "        gain = GAIN2\n",
    "    else:\n",
    "        gain = PERTE\n",
    "    return gain\n",
    "\n",
    "\n",
    "def jeu(mise, longueur, nb_repetition):\n",
    "    x, y = DEPART\n",
    "    while # À COMPLÉTER avec la bonne expression booléenne :\n",
    "        x, y = # À COMPLÉTER pour réaliser un parcours\n",
    "        mise += # À COMPLÉTER pour mettre à jour la mise du jour\n",
    "        nb_repetition -= 1\n",
    "    return mise"
   ]
  },
  {
   "cell_type": "markdown",
   "metadata": {},
   "source": [
    "#### Exemple d'utilisation\n",
    "\n",
    "Voici un petit programme qui utilise la fonction `jeu`... et son exécution (il faut que toutes les autres fonctions soient opérationnelles). \n",
    "\n",
    "**Attention l'affichage produit peut varier d'une exécution à l'autre, puisqu'il y a de l'aléatoire**."
   ]
  },
  {
   "cell_type": "code",
   "execution_count": 41,
   "metadata": {},
   "outputs": [
    {
     "name": "stdout",
     "output_type": "stream",
     "text": [
      "Vous avez 130\n",
      "Vous avez gagné 110€\n"
     ]
    }
   ],
   "source": [
    "MISE = 20\n",
    "LONG_PARCOURS = 5\n",
    "NB_REPET = 20\n",
    "\n",
    "mise = jeu(MISE, LONG_PARCOURS, NB_REPET)\n",
    "print(f'Vous avez {mise}')\n",
    "diff = mise - MISE\n",
    "if diff > 0:\n",
    "    print(f'Vous avez gagné {diff}€')\n",
    "else:\n",
    "    print(f'Vous avez perdu {-diff}€')"
   ]
  },
  {
   "cell_type": "markdown",
   "metadata": {},
   "source": [
    "**Fin du sujet**"
   ]
  }
 ],
 "metadata": {
  "kernelspec": {
   "display_name": "Python 3",
   "language": "python",
   "name": "python3"
  },
  "language_info": {
   "codemirror_mode": {
    "name": "ipython",
    "version": 3
   },
   "file_extension": ".py",
   "mimetype": "text/x-python",
   "name": "python",
   "nbconvert_exporter": "python",
   "pygments_lexer": "ipython3",
   "version": "3.7.0"
  }
 },
 "nbformat": 4,
 "nbformat_minor": 2
}
